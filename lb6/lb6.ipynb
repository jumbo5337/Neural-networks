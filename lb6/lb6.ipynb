{
 "cells": [
  {
   "cell_type": "code",
   "execution_count": null,
   "metadata": {
    "collapsed": true,
    "pycharm": {
     "name": "#%%\n"
    }
   },
   "outputs": [],
   "source": [
    "#https://github.com/pankajr141/SOM\n",
    "import pandas as pd\n",
    "import numpy as np\n",
    "df = pd.read_csv('winequality-red.csv', sep = ';')\n",
    "\n",
    "arr = np.asarray(df)\n",
    "print(arr.shape)"
   ]
  },
  {
   "cell_type": "code",
   "execution_count": 19,
   "outputs": [
    {
     "name": "stdout",
     "output_type": "stream",
     "text": [
      "\n",
      "Main information\n",
      "\n",
      "[ALGORITHM] SOFM\n",
      "\r\n",
      "[OPTION] distance = ['euclid', 'neg_euclid_distance']\n",
      "[OPTION] features_grid = [5, 5]\n",
      "[OPTION] grid_type = ['rectangle', 'find_neighbours_on_rect_grid', 'find_step_scaler_on_rect_grid']\n",
      "[OPTION] learning_radius = 0\n",
      "[OPTION] n_inputs = 12\n",
      "[OPTION] n_outputs = 3\n",
      "[OPTION] reduce_radius_after = 100\n",
      "[OPTION] reduce_std_after = 100\n",
      "[OPTION] reduce_step_after = 100\n",
      "[OPTION] show_epoch = 20\n",
      "[OPTION] shuffle_data = True\n",
      "[OPTION] signals = None\n",
      "[OPTION] std = 1\n",
      "[OPTION] step = 0.5\n",
      "[OPTION] verbose = True\n",
      "[OPTION] weight = Normal(mean=0, std=0.01)\n",
      "\r\n"
     ]
    },
    {
     "ename": "ValueError",
     "evalue": "Feature grid should contain the same number of elements as in the output layer: 3, but found: 25 (shape: (5, 5))",
     "output_type": "error",
     "traceback": [
      "\u001B[1;31m---------------------------------------------------------------------------\u001B[0m",
      "\u001B[1;31mValueError\u001B[0m                                Traceback (most recent call last)",
      "\u001B[1;32m<ipython-input-19-979400f6b629>\u001B[0m in \u001B[0;36m<module>\u001B[1;34m\u001B[0m\n\u001B[0;32m     21\u001B[0m \u001B[1;33m\u001B[0m\u001B[0m\n\u001B[0;32m     22\u001B[0m     \u001B[0mlearning_radius\u001B[0m\u001B[1;33m=\u001B[0m\u001B[1;36m0\u001B[0m\u001B[1;33m,\u001B[0m\u001B[1;33m\u001B[0m\u001B[1;33m\u001B[0m\u001B[0m\n\u001B[1;32m---> 23\u001B[1;33m     \u001B[0mfeatures_grid\u001B[0m\u001B[1;33m=\u001B[0m\u001B[1;33m(\u001B[0m\u001B[1;36m5\u001B[0m\u001B[1;33m,\u001B[0m \u001B[1;36m5\u001B[0m\u001B[1;33m)\u001B[0m\u001B[1;33m,\u001B[0m\u001B[1;33m\u001B[0m\u001B[1;33m\u001B[0m\u001B[0m\n\u001B[0m\u001B[0;32m     24\u001B[0m )\n\u001B[0;32m     25\u001B[0m \u001B[1;33m\u001B[0m\u001B[0m\n",
      "\u001B[1;32mD:\\soft\\Anaconda3\\lib\\site-packages\\neupy\\algorithms\\competitive\\sofm.py\u001B[0m in \u001B[0;36m__init__\u001B[1;34m(self, **options)\u001B[0m\n\u001B[0;32m    424\u001B[0m                     \u001B[0mself\u001B[0m\u001B[1;33m.\u001B[0m\u001B[0mn_outputs\u001B[0m\u001B[1;33m,\u001B[0m\u001B[1;33m\u001B[0m\u001B[1;33m\u001B[0m\u001B[0m\n\u001B[0;32m    425\u001B[0m                     \u001B[0mn_grid_elements\u001B[0m\u001B[1;33m,\u001B[0m\u001B[1;33m\u001B[0m\u001B[1;33m\u001B[0m\u001B[0m\n\u001B[1;32m--> 426\u001B[1;33m                     self.features_grid))\n\u001B[0m\u001B[0;32m    427\u001B[0m \u001B[1;33m\u001B[0m\u001B[0m\n\u001B[0;32m    428\u001B[0m         \u001B[1;32mif\u001B[0m \u001B[0mself\u001B[0m\u001B[1;33m.\u001B[0m\u001B[0mfeatures_grid\u001B[0m \u001B[1;32mis\u001B[0m \u001B[1;32mNone\u001B[0m\u001B[1;33m:\u001B[0m\u001B[1;33m\u001B[0m\u001B[1;33m\u001B[0m\u001B[0m\n",
      "\u001B[1;31mValueError\u001B[0m: Feature grid should contain the same number of elements as in the output layer: 3, but found: 25 (shape: (5, 5))"
     ]
    }
   ],
   "source": [
    "import numpy as np\n",
    "import matplotlib.pyplot as plt\n",
    "\n",
    "from neupy import algorithms, utils\n",
    "\n",
    "\n",
    "# utils.reproducible()\n",
    "plt.style.use('ggplot')\n",
    "\n",
    "\n",
    "X = arr\n",
    "\n",
    "sofmnet = algorithms.SOFM(\n",
    "    n_inputs=12,\n",
    "    n_outputs=3,\n",
    "\n",
    "    step=0.5,\n",
    "    show_epoch=20,\n",
    "    shuffle_data=True,\n",
    "    verbose=True,\n",
    "\n",
    "    learning_radius=0,\n",
    "    features_grid=(5, 5),\n",
    ")\n",
    "\n",
    "sofmnet.train(X, epochs=100)"
   ],
   "metadata": {
    "collapsed": false,
    "pycharm": {
     "name": "#%%\n"
    }
   }
  },
  {
   "cell_type": "code",
   "execution_count": 16,
   "outputs": [
    {
     "name": "stderr",
     "output_type": "stream",
     "text": [
      "                                                                               \r"
     ]
    },
    {
     "name": "stdout",
     "output_type": "stream",
     "text": [
      "#201 : [671 ms] train: 1.740760\n",
      "#220 : [680 ms] train: 1.719868\n",
      "#240 : [635 ms] train: 1.710648\n",
      "#260 : [785 ms] train: 1.753516\n",
      "#280 : [711 ms] train: 1.720466\n",
      "#300 : [680 ms] train: 1.704184\n",
      "> Start plotting\n"
     ]
    },
    {
     "data": {
      "text/plain": "<Figure size 432x288 with 1 Axes>",
      "image/png": "[encoded data removed]"
     },
     "metadata": {},
     "output_type": "display_data"
    },
    {
     "ename": "ValueError",
     "evalue": "cannot reshape array of size 12 into shape (2,1)",
     "output_type": "error",
     "traceback": [
      "\u001B[1;31m---------------------------------------------------------------------------\u001B[0m",
      "\u001B[1;31mValueError\u001B[0m                                Traceback (most recent call last)",
      "\u001B[1;32m<ipython-input-16-b4fe51614af1>\u001B[0m in \u001B[0;36m<module>\u001B[1;34m\u001B[0m\n\u001B[0;32m     10\u001B[0m \u001B[1;33m\u001B[0m\u001B[0m\n\u001B[0;32m     11\u001B[0m \u001B[1;32mfor\u001B[0m \u001B[0mdata\u001B[0m \u001B[1;32min\u001B[0m \u001B[0mX\u001B[0m\u001B[1;33m:\u001B[0m\u001B[1;33m\u001B[0m\u001B[1;33m\u001B[0m\u001B[0m\n\u001B[1;32m---> 12\u001B[1;33m     \u001B[0mprint\u001B[0m\u001B[1;33m(\u001B[0m\u001B[0msofmnet\u001B[0m\u001B[1;33m.\u001B[0m\u001B[0mpredict\u001B[0m\u001B[1;33m(\u001B[0m\u001B[0mnp\u001B[0m\u001B[1;33m.\u001B[0m\u001B[0mreshape\u001B[0m\u001B[1;33m(\u001B[0m\u001B[0mdata\u001B[0m\u001B[1;33m,\u001B[0m \u001B[1;33m(\u001B[0m\u001B[1;36m2\u001B[0m\u001B[1;33m,\u001B[0m \u001B[1;36m1\u001B[0m\u001B[1;33m)\u001B[0m\u001B[1;33m)\u001B[0m\u001B[1;33m.\u001B[0m\u001B[0mT\u001B[0m\u001B[1;33m)\u001B[0m\u001B[1;33m)\u001B[0m\u001B[1;33m\u001B[0m\u001B[1;33m\u001B[0m\u001B[0m\n\u001B[0m",
      "\u001B[1;32m<__array_function__ internals>\u001B[0m in \u001B[0;36mreshape\u001B[1;34m(*args, **kwargs)\u001B[0m\n",
      "\u001B[1;32mD:\\soft\\Anaconda3\\lib\\site-packages\\numpy\\core\\fromnumeric.py\u001B[0m in \u001B[0;36mreshape\u001B[1;34m(a, newshape, order)\u001B[0m\n\u001B[0;32m    299\u001B[0m            [5, 6]])\n\u001B[0;32m    300\u001B[0m     \"\"\"\n\u001B[1;32m--> 301\u001B[1;33m     \u001B[1;32mreturn\u001B[0m \u001B[0m_wrapfunc\u001B[0m\u001B[1;33m(\u001B[0m\u001B[0ma\u001B[0m\u001B[1;33m,\u001B[0m \u001B[1;34m'reshape'\u001B[0m\u001B[1;33m,\u001B[0m \u001B[0mnewshape\u001B[0m\u001B[1;33m,\u001B[0m \u001B[0morder\u001B[0m\u001B[1;33m=\u001B[0m\u001B[0morder\u001B[0m\u001B[1;33m)\u001B[0m\u001B[1;33m\u001B[0m\u001B[1;33m\u001B[0m\u001B[0m\n\u001B[0m\u001B[0;32m    302\u001B[0m \u001B[1;33m\u001B[0m\u001B[0m\n\u001B[0;32m    303\u001B[0m \u001B[1;33m\u001B[0m\u001B[0m\n",
      "\u001B[1;32mD:\\soft\\Anaconda3\\lib\\site-packages\\numpy\\core\\fromnumeric.py\u001B[0m in \u001B[0;36m_wrapfunc\u001B[1;34m(obj, method, *args, **kwds)\u001B[0m\n\u001B[0;32m     59\u001B[0m \u001B[1;33m\u001B[0m\u001B[0m\n\u001B[0;32m     60\u001B[0m     \u001B[1;32mtry\u001B[0m\u001B[1;33m:\u001B[0m\u001B[1;33m\u001B[0m\u001B[1;33m\u001B[0m\u001B[0m\n\u001B[1;32m---> 61\u001B[1;33m         \u001B[1;32mreturn\u001B[0m \u001B[0mbound\u001B[0m\u001B[1;33m(\u001B[0m\u001B[1;33m*\u001B[0m\u001B[0margs\u001B[0m\u001B[1;33m,\u001B[0m \u001B[1;33m**\u001B[0m\u001B[0mkwds\u001B[0m\u001B[1;33m)\u001B[0m\u001B[1;33m\u001B[0m\u001B[1;33m\u001B[0m\u001B[0m\n\u001B[0m\u001B[0;32m     62\u001B[0m     \u001B[1;32mexcept\u001B[0m \u001B[0mTypeError\u001B[0m\u001B[1;33m:\u001B[0m\u001B[1;33m\u001B[0m\u001B[1;33m\u001B[0m\u001B[0m\n\u001B[0;32m     63\u001B[0m         \u001B[1;31m# A TypeError occurs if the object does have such a method in its\u001B[0m\u001B[1;33m\u001B[0m\u001B[1;33m\u001B[0m\u001B[1;33m\u001B[0m\u001B[0m\n",
      "\u001B[1;31mValueError\u001B[0m: cannot reshape array of size 12 into shape (2,1)"
     ]
    }
   ],
   "source": [
    "plt.plot(X.T[:, :], X.T[:, :], 'ko')\n",
    "\n",
    "print(\"> Start plotting\")\n",
    "plt.xlim(-1, 1.2)\n",
    "plt.ylim(-1, 1.2)\n",
    "\n",
    "plt.plot(sofmnet.weight[0:1, :], sofmnet.weight[1:2, :], 'bx')\n",
    "plt.show()\n",
    "\n",
    "for data in X:\n",
    "    print(sofmnet.predict(np.reshape(data, (2, 1)).T))"
   ],
   "metadata": {
    "collapsed": false,
    "pycharm": {
     "name": "#%%\n"
    }
   }
  }
 ],
 "metadata": {
  "kernelspec": {
   "display_name": "Python 3",
   "language": "python",
   "name": "python3"
  },
  "language_info": {
   "codemirror_mode": {
    "name": "ipython",
    "version": 2
   },
   "file_extension": ".py",
   "mimetype": "text/x-python",
   "name": "python",
   "nbconvert_exporter": "python",
   "pygments_lexer": "ipython2",
   "version": "2.7.6"
  }
 },
 "nbformat": 4,
 "nbformat_minor": 0
}
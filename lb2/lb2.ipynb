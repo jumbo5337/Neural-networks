{
 "cells": [
  {
   "cell_type": "code",
   "execution_count": null,
   "metadata": {
    "collapsed": true
   },
   "outputs": [],
   "source": [
    "import numpy as np\n",
    "import matplotlib.pyplot as plt\n",
    "from matplotlib import rcParams\n",
    "from tensorflow.keras import losses\n",
    "from tensorflow.keras import models\n",
    "from tensorflow.keras import layers\n",
    "import tensorflow as tf\n",
    "from tensorflow import random as tf_rnd\n",
    "import random\n",
    "\n",
    "np.random.seed(77)\n",
    "tf_rnd.set_seed(77)\n",
    "random.seed(77)\n",
    "\n",
    "## Параметры размеров окна matplotlib\n",
    "rcParams['figure.figsize'] = (10.0, 5.0)\n",
    "\n",
    "x_arr = np.arange(-10, 10, 0.5)\n",
    "y_arr = np.tile([1, 1, 1, 1, 0, 0, 0, 0], 5)\n",
    "\n",
    "plt.plot(x_arr, y_arr, '-', color='red', label='Real values', markersize=5)\n",
    "plt.show()\n",
    "plt.close()\n",
    "\n",
    "threshold = 0.0001\n",
    "keras_lf = losses.MeanSquaredError()\n",
    "\n",
    "\n",
    "class signal_nn:\n",
    "    def __init__(self, neurons=50, activation='relu', threshold=0.000001):\n",
    "        self.threshold = threshold\n",
    "        self.model = models.Sequential()\n",
    "        self.model.add(layers.Dense(neurons, activation=activation, input_dim=1))\n",
    "        self.model.add(layers.Dense(neurons, activation=activation))\n",
    "        self.model.add(layers.Dense(neurons, activation=activation))\n",
    "        self.model.add(layers.Dense(neurons * 2, activation=activation))\n",
    "        self.model.add(layers.Dense(neurons * 2, activation=activation))\n",
    "        self.model.add(layers.Dense(neurons * 2, activation=activation))\n",
    "        self.model.add(layers.Dense(neurons, activation=activation))\n",
    "        self.model.add(layers.Dense(20, activation=activation))\n",
    "        self.model.add(layers.Dense(5, activation=activation))\n",
    "        self.model.add(layers.Dense(1))\n",
    "        self.model.compile(loss=self.custom_mse, optimizer='rmsprop')\n",
    "\n",
    "    def custom_mse(self, y_true, y_pred):\n",
    "        res = keras_lf(y_true, y_pred)\n",
    "        return tf.where(res < self.threshold, 0.0, res)\n",
    "\n",
    "    def fit(self, epochs, x, y):\n",
    "        return self.model.fit(x, y, epochs=epochs, batch_size=1)\n",
    "\n",
    "    def predict(self, x):\n",
    "        return self.model.predict(x)\n",
    "\n",
    "snn_tr_0001 = signal_nn(threshold= 0.0001)\n",
    "snn_tr_001 = signal_nn(threshold= 0.001)\n",
    "snn_tr_01 = signal_nn(threshold= 0.01)\n",
    "\n",
    "snn_tr_01.fit(epochs=700, x = x_arr, y=y_arr)\n",
    "snn_tr_001.fit(epochs=700, x = x_arr, y=y_arr)\n",
    "snn_tr_0001.fit(epochs=700, x = x_arr, y=y_arr)\n",
    "\n",
    "tr_01_arr = snn_tr_01.predict(x_arr)\n",
    "tr_001_arr = snn_tr_001.predict(x_arr)\n",
    "tr_0001_arr = snn_tr_0001.predict(x_arr)\n"
   ]
  },
  {
   "cell_type": "code",
   "execution_count": null,
   "outputs": [],
   "source": [
    "plt.plot(x_arr, y_arr, '-', color='black', label='Real values', markersize=6)\n",
    "plt.plot(x_arr, tr_01_arr, 'densely dotted', color='blue', label='Predict : tr = 0.01', markersize=3)\n",
    "plt.plot(x_arr, tr_001_arr, '-.', color='green', label='Predict : tr = 0.001', markersize=3)\n",
    "plt.plot(x_arr, tr_001_arr, '--', color='red', label='Predict : tr = 0.0001', markersize=3)\n",
    "plt.legend()\n",
    "plt.show()\n"
   ],
   "metadata": {
    "collapsed": false,
    "pycharm": {
     "name": "#%%\n"
    }
   }
  }
 ],
 "metadata": {
  "kernelspec": {
   "display_name": "Python 3",
   "language": "python",
   "name": "python3"
  },
  "language_info": {
   "codemirror_mode": {
    "name": "ipython",
    "version": 2
   },
   "file_extension": ".py",
   "mimetype": "text/x-python",
   "name": "python",
   "nbconvert_exporter": "python",
   "pygments_lexer": "ipython2",
   "version": "2.7.6"
  }
 },
 "nbformat": 4,
 "nbformat_minor": 0
}
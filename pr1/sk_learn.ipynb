{
 "cells": [
  {
   "cell_type": "code",
   "execution_count": 30,
   "metadata": {
    "collapsed": true
   },
   "outputs": [],
   "source": [
    "# Authors: Yann N. Dauphin, Vlad Niculae, Gabriel Synnaeve\n",
    "# License: BSDhttps://github.com/aespresso/rbm_recommendation_system_attempt/blob/master/RBM_mnist_example.ipynb\n",
    "\n",
    "\n",
    "import numpy as np\n",
    "import matplotlib.pyplot as plt\n",
    "\n",
    "from scipy.ndimage import convolve\n",
    "from sklearn import linear_model, datasets, metrics\n",
    "from sklearn.model_selection import train_test_split\n",
    "from sklearn.neural_network import BernoulliRBM\n",
    "from sklearn.pipeline import Pipeline\n",
    "from sklearn.base import clone\n",
    "\n",
    "from keras.datasets import fashion_mnist\n",
    "\n",
    "(x_train_src, _), _ = fashion_mnist.load_data()\n",
    "#Нормализуем данные\n",
    "x_train = x_train_src.astype('float32') / 255.\n",
    "x_train = np.reshape(x_train, (len(x_train), 28*28))"
   ]
  },
  {
   "cell_type": "code",
   "execution_count": 31,
   "outputs": [
    {
     "name": "stdout",
     "output_type": "stream",
     "text": [
      "[BernoulliRBM] Iteration 1, pseudo-likelihood = -251.49, time = 5.14s\n",
      "[BernoulliRBM] Iteration 2, pseudo-likelihood = -238.05, time = 5.66s\n",
      "[BernoulliRBM] Iteration 3, pseudo-likelihood = -227.39, time = 6.41s\n",
      "[BernoulliRBM] Iteration 4, pseudo-likelihood = -226.46, time = 6.58s\n",
      "[BernoulliRBM] Iteration 5, pseudo-likelihood = -227.44, time = 6.63s\n",
      "[BernoulliRBM] Iteration 6, pseudo-likelihood = -227.24, time = 6.14s\n",
      "[BernoulliRBM] Iteration 7, pseudo-likelihood = -223.04, time = 6.23s\n",
      "[BernoulliRBM] Iteration 8, pseudo-likelihood = -223.56, time = 6.09s\n",
      "[BernoulliRBM] Iteration 9, pseudo-likelihood = -226.61, time = 5.77s\n",
      "[BernoulliRBM] Iteration 10, pseudo-likelihood = -228.22, time = 6.02s\n",
      "[BernoulliRBM] Iteration 11, pseudo-likelihood = -223.12, time = 6.24s\n",
      "[BernoulliRBM] Iteration 12, pseudo-likelihood = -225.52, time = 6.96s\n",
      "[BernoulliRBM] Iteration 13, pseudo-likelihood = -217.24, time = 5.91s\n",
      "[BernoulliRBM] Iteration 14, pseudo-likelihood = -226.96, time = 5.54s\n",
      "[BernoulliRBM] Iteration 15, pseudo-likelihood = -223.38, time = 5.79s\n",
      "[BernoulliRBM] Iteration 16, pseudo-likelihood = -226.07, time = 5.88s\n",
      "[BernoulliRBM] Iteration 17, pseudo-likelihood = -223.62, time = 5.62s\n",
      "[BernoulliRBM] Iteration 18, pseudo-likelihood = -221.31, time = 5.85s\n",
      "[BernoulliRBM] Iteration 19, pseudo-likelihood = -220.87, time = 6.05s\n",
      "[BernoulliRBM] Iteration 20, pseudo-likelihood = -225.91, time = 6.27s\n",
      "[BernoulliRBM] Iteration 21, pseudo-likelihood = -221.33, time = 5.78s\n",
      "[BernoulliRBM] Iteration 22, pseudo-likelihood = -224.93, time = 6.39s\n",
      "[BernoulliRBM] Iteration 23, pseudo-likelihood = -221.22, time = 6.93s\n",
      "[BernoulliRBM] Iteration 24, pseudo-likelihood = -219.42, time = 6.08s\n",
      "[BernoulliRBM] Iteration 25, pseudo-likelihood = -222.72, time = 5.70s\n",
      "[BernoulliRBM] Iteration 26, pseudo-likelihood = -221.88, time = 6.05s\n",
      "[BernoulliRBM] Iteration 27, pseudo-likelihood = -223.44, time = 5.84s\n",
      "[BernoulliRBM] Iteration 28, pseudo-likelihood = -230.04, time = 6.37s\n",
      "[BernoulliRBM] Iteration 29, pseudo-likelihood = -224.70, time = 6.39s\n",
      "[BernoulliRBM] Iteration 30, pseudo-likelihood = -218.69, time = 5.67s\n",
      "[BernoulliRBM] Iteration 31, pseudo-likelihood = -224.78, time = 5.81s\n",
      "[BernoulliRBM] Iteration 32, pseudo-likelihood = -224.16, time = 5.97s\n",
      "[BernoulliRBM] Iteration 33, pseudo-likelihood = -222.66, time = 5.65s\n",
      "[BernoulliRBM] Iteration 34, pseudo-likelihood = -226.72, time = 5.63s\n",
      "[BernoulliRBM] Iteration 35, pseudo-likelihood = -221.75, time = 5.71s\n",
      "[BernoulliRBM] Iteration 36, pseudo-likelihood = -227.42, time = 5.66s\n",
      "[BernoulliRBM] Iteration 37, pseudo-likelihood = -222.16, time = 5.57s\n",
      "[BernoulliRBM] Iteration 38, pseudo-likelihood = -223.51, time = 6.05s\n",
      "[BernoulliRBM] Iteration 39, pseudo-likelihood = -222.79, time = 5.84s\n",
      "[BernoulliRBM] Iteration 40, pseudo-likelihood = -230.78, time = 7.17s\n",
      "[BernoulliRBM] Iteration 41, pseudo-likelihood = -219.38, time = 6.06s\n",
      "[BernoulliRBM] Iteration 42, pseudo-likelihood = -221.43, time = 6.20s\n",
      "[BernoulliRBM] Iteration 43, pseudo-likelihood = -223.21, time = 5.87s\n",
      "[BernoulliRBM] Iteration 44, pseudo-likelihood = -222.35, time = 6.26s\n",
      "[BernoulliRBM] Iteration 45, pseudo-likelihood = -220.85, time = 5.61s\n",
      "[BernoulliRBM] Iteration 46, pseudo-likelihood = -223.99, time = 5.73s\n",
      "[BernoulliRBM] Iteration 47, pseudo-likelihood = -225.62, time = 5.73s\n",
      "[BernoulliRBM] Iteration 48, pseudo-likelihood = -224.06, time = 5.75s\n",
      "[BernoulliRBM] Iteration 49, pseudo-likelihood = -223.66, time = 5.65s\n",
      "[BernoulliRBM] Iteration 50, pseudo-likelihood = -222.19, time = 6.28s\n",
      "[BernoulliRBM] Iteration 51, pseudo-likelihood = -223.00, time = 5.71s\n",
      "[BernoulliRBM] Iteration 52, pseudo-likelihood = -227.76, time = 5.57s\n",
      "[BernoulliRBM] Iteration 53, pseudo-likelihood = -226.94, time = 5.87s\n",
      "[BernoulliRBM] Iteration 54, pseudo-likelihood = -224.91, time = 5.54s\n",
      "[BernoulliRBM] Iteration 55, pseudo-likelihood = -224.88, time = 5.61s\n",
      "[BernoulliRBM] Iteration 56, pseudo-likelihood = -226.14, time = 5.58s\n",
      "[BernoulliRBM] Iteration 57, pseudo-likelihood = -220.83, time = 5.57s\n",
      "[BernoulliRBM] Iteration 58, pseudo-likelihood = -221.44, time = 5.59s\n",
      "[BernoulliRBM] Iteration 59, pseudo-likelihood = -223.98, time = 5.62s\n",
      "[BernoulliRBM] Iteration 60, pseudo-likelihood = -218.86, time = 5.58s\n",
      "[BernoulliRBM] Iteration 61, pseudo-likelihood = -226.65, time = 5.84s\n",
      "[BernoulliRBM] Iteration 62, pseudo-likelihood = -219.68, time = 5.99s\n",
      "[BernoulliRBM] Iteration 63, pseudo-likelihood = -223.12, time = 6.15s\n",
      "[BernoulliRBM] Iteration 64, pseudo-likelihood = -223.16, time = 6.99s\n",
      "[BernoulliRBM] Iteration 65, pseudo-likelihood = -222.10, time = 6.35s\n",
      "[BernoulliRBM] Iteration 66, pseudo-likelihood = -221.63, time = 6.35s\n",
      "[BernoulliRBM] Iteration 67, pseudo-likelihood = -226.17, time = 5.81s\n",
      "[BernoulliRBM] Iteration 68, pseudo-likelihood = -228.20, time = 5.96s\n",
      "[BernoulliRBM] Iteration 69, pseudo-likelihood = -225.40, time = 5.74s\n",
      "[BernoulliRBM] Iteration 70, pseudo-likelihood = -227.13, time = 5.86s\n",
      "[BernoulliRBM] Iteration 71, pseudo-likelihood = -227.06, time = 6.44s\n",
      "[BernoulliRBM] Iteration 72, pseudo-likelihood = -220.14, time = 5.79s\n",
      "[BernoulliRBM] Iteration 73, pseudo-likelihood = -228.65, time = 5.70s\n",
      "[BernoulliRBM] Iteration 74, pseudo-likelihood = -227.94, time = 5.97s\n",
      "[BernoulliRBM] Iteration 75, pseudo-likelihood = -225.42, time = 5.86s\n",
      "[BernoulliRBM] Iteration 76, pseudo-likelihood = -220.29, time = 6.08s\n",
      "[BernoulliRBM] Iteration 77, pseudo-likelihood = -223.17, time = 6.23s\n",
      "[BernoulliRBM] Iteration 78, pseudo-likelihood = -225.70, time = 6.07s\n",
      "[BernoulliRBM] Iteration 79, pseudo-likelihood = -223.98, time = 6.18s\n",
      "[BernoulliRBM] Iteration 80, pseudo-likelihood = -222.25, time = 5.89s\n",
      "[BernoulliRBM] Iteration 81, pseudo-likelihood = -220.97, time = 5.69s\n",
      "[BernoulliRBM] Iteration 82, pseudo-likelihood = -224.04, time = 5.85s\n",
      "[BernoulliRBM] Iteration 83, pseudo-likelihood = -220.87, time = 5.65s\n",
      "[BernoulliRBM] Iteration 84, pseudo-likelihood = -222.49, time = 5.71s\n",
      "[BernoulliRBM] Iteration 85, pseudo-likelihood = -223.77, time = 5.73s\n",
      "[BernoulliRBM] Iteration 86, pseudo-likelihood = -223.23, time = 5.69s\n",
      "[BernoulliRBM] Iteration 87, pseudo-likelihood = -220.58, time = 6.07s\n",
      "[BernoulliRBM] Iteration 88, pseudo-likelihood = -223.83, time = 5.86s\n",
      "[BernoulliRBM] Iteration 89, pseudo-likelihood = -219.01, time = 6.03s\n",
      "[BernoulliRBM] Iteration 90, pseudo-likelihood = -227.60, time = 5.87s\n",
      "[BernoulliRBM] Iteration 91, pseudo-likelihood = -220.01, time = 6.10s\n",
      "[BernoulliRBM] Iteration 92, pseudo-likelihood = -220.48, time = 5.87s\n",
      "[BernoulliRBM] Iteration 93, pseudo-likelihood = -219.16, time = 5.64s\n",
      "[BernoulliRBM] Iteration 94, pseudo-likelihood = -225.34, time = 5.84s\n",
      "[BernoulliRBM] Iteration 95, pseudo-likelihood = -221.46, time = 6.03s\n",
      "[BernoulliRBM] Iteration 96, pseudo-likelihood = -221.84, time = 5.73s\n",
      "[BernoulliRBM] Iteration 97, pseudo-likelihood = -220.87, time = 5.59s\n",
      "[BernoulliRBM] Iteration 98, pseudo-likelihood = -221.01, time = 5.58s\n",
      "[BernoulliRBM] Iteration 99, pseudo-likelihood = -220.93, time = 5.60s\n",
      "[BernoulliRBM] Iteration 100, pseudo-likelihood = -220.74, time = 5.78s\n"
     ]
    },
    {
     "data": {
      "text/plain": "BernoulliRBM(batch_size=10, learning_rate=0.1, n_components=25, n_iter=100,\n             random_state=0, verbose=True)"
     },
     "execution_count": 31,
     "metadata": {},
     "output_type": "execute_result"
    }
   ],
   "source": [
    "# Models we will use\n",
    "rbm = BernoulliRBM(random_state=0, verbose=True, n_iter=100, n_components=25)\n",
    "rbm.fit(x_train)\n"
   ],
   "metadata": {
    "collapsed": false,
    "pycharm": {
     "name": "#%%\n"
    }
   }
  },
  {
   "cell_type": "code",
   "execution_count": 34,
   "outputs": [
    {
     "data": {
      "text/plain": "<Figure size 302.4x288 with 25 Axes>",
      "image/png": "[encoded data removed]"
     },
     "metadata": {},
     "output_type": "display_data"
    }
   ],
   "source": [
    "def show_results(input, output, n):\n",
    "    fig, axs = plt.subplots(2, n)\n",
    "    for i in range(0, n):\n",
    "        axs[0, i].imshow(input[i])\n",
    "        axs[0, i].axis('off')\n",
    "        axs[1, i].imshow(output[i])\n",
    "        axs[1, i].axis('off')\n",
    "\n",
    "samples = x_train[20:30].copy()\n",
    "gibbs = rbm.gibbs(samples)\n",
    "gibbs = gibbs.reshape(len(samples), 28, 28)\n",
    "samples = samples.reshape(len(samples), 28, 28)\n",
    "\n",
    "\n",
    "# #############################################################################\n",
    "# Plotting\n",
    "\n",
    "plt.figure(figsize=(4.2, 4))\n",
    "for i, comp in enumerate(rbm.components_):\n",
    "    plt.subplot(10, 10, i + 1)\n",
    "    plt.imshow(comp.reshape((28, 28)), cmap=plt.cm.gray_r,\n",
    "               interpolation='nearest')\n",
    "    plt.xticks(())\n",
    "    plt.yticks(())\n",
    "plt.suptitle('100 components extracted by RBM', fontsize=16)\n",
    "plt.subplots_adjust(0.08, 0.02, 0.92, 0.85, 0.08, 0.23)\n",
    "\n",
    "plt.show()"
   ],
   "metadata": {
    "collapsed": false,
    "pycharm": {
     "name": "#%%\n"
    }
   }
  }
 ],
 "metadata": {
  "kernelspec": {
   "display_name": "Python 3",
   "language": "python",
   "name": "python3"
  },
  "language_info": {
   "codemirror_mode": {
    "name": "ipython",
    "version": 2
   },
   "file_extension": ".py",
   "mimetype": "text/x-python",
   "name": "python",
   "nbconvert_exporter": "python",
   "pygments_lexer": "ipython2",
   "version": "2.7.6"
  }
 },
 "nbformat": 4,
 "nbformat_minor": 0
}
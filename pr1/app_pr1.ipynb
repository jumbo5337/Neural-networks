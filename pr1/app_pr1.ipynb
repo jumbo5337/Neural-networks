{
 "cells": [
  {
   "cell_type": "code",
   "execution_count": 4,
   "metadata": {
    "collapsed": true
   },
   "outputs": [],
   "source": [
    "import numpy as np\n",
    "from keras.datasets import fashion_mnist\n",
    "from sklearn.neural_network import BernoulliRBM\n",
    "from sklearn.pipeline import Pipeline\n",
    "\n",
    "(x_train_src, y_train_src), (x_valid_src, y_valid_src) = fashion_mnist.load_data()\n",
    "#Нормализуем данные\n",
    "x_train = x_train_src.astype('float32') / 255.\n",
    "x_valid = x_valid_src.astype('float32') / 255.\n",
    "#Преобразуем к формату (28, 28, 1) (Длинна, ширина, канал)\n",
    "x_train = np.reshape(x_train, (len(x_train), 28*28))\n",
    "x_test  = np.reshape(x_valid,  (len(x_valid),  28*28))\n",
    "\n",
    "\n"
   ]
  },
  {
   "cell_type": "code",
   "execution_count": 42,
   "outputs": [
    {
     "name": "stdout",
     "output_type": "stream",
     "text": [
      "[BernoulliRBM] Iteration 1, pseudo-likelihood = -240.82, time = 36.09s\n"
     ]
    },
    {
     "ename": "KeyboardInterrupt",
     "evalue": "",
     "output_type": "error",
     "traceback": [
      "\u001B[1;31m---------------------------------------------------------------------------\u001B[0m",
      "\u001B[1;31mKeyboardInterrupt\u001B[0m                         Traceback (most recent call last)",
      "\u001B[1;32m<ipython-input-42-4a8a8afd8c2e>\u001B[0m in \u001B[0;36m<module>\u001B[1;34m\u001B[0m\n\u001B[0;32m      2\u001B[0m \u001B[1;31m# Инициируем RBM\u001B[0m\u001B[1;33m\u001B[0m\u001B[1;33m\u001B[0m\u001B[1;33m\u001B[0m\u001B[0m\n\u001B[0;32m      3\u001B[0m \u001B[0mrbm\u001B[0m \u001B[1;33m=\u001B[0m \u001B[0mBernoulliRBM\u001B[0m\u001B[1;33m(\u001B[0m\u001B[0mn_components\u001B[0m\u001B[1;33m=\u001B[0m\u001B[0mnn_neurons\u001B[0m\u001B[1;33m,\u001B[0m \u001B[0mbatch_size\u001B[0m\u001B[1;33m=\u001B[0m\u001B[1;36m128\u001B[0m\u001B[1;33m,\u001B[0m \u001B[0mn_iter\u001B[0m\u001B[1;33m=\u001B[0m\u001B[1;36m20\u001B[0m\u001B[1;33m,\u001B[0m \u001B[0mverbose\u001B[0m\u001B[1;33m=\u001B[0m\u001B[1;36m1\u001B[0m\u001B[1;33m)\u001B[0m\u001B[1;33m\u001B[0m\u001B[1;33m\u001B[0m\u001B[0m\n\u001B[1;32m----> 4\u001B[1;33m \u001B[0mrbm\u001B[0m\u001B[1;33m.\u001B[0m\u001B[0mfit\u001B[0m\u001B[1;33m(\u001B[0m\u001B[0mx_train\u001B[0m\u001B[1;33m,\u001B[0m \u001B[0mx_train\u001B[0m\u001B[1;33m)\u001B[0m\u001B[1;33m\u001B[0m\u001B[1;33m\u001B[0m\u001B[0m\n\u001B[0m",
      "\u001B[1;32mD:\\soft\\Anaconda3\\lib\\site-packages\\sklearn\\neural_network\\_rbm.py\u001B[0m in \u001B[0;36mfit\u001B[1;34m(self, X, y)\u001B[0m\n\u001B[0;32m    355\u001B[0m         \u001B[1;32mfor\u001B[0m \u001B[0miteration\u001B[0m \u001B[1;32min\u001B[0m \u001B[0mrange\u001B[0m\u001B[1;33m(\u001B[0m\u001B[1;36m1\u001B[0m\u001B[1;33m,\u001B[0m \u001B[0mself\u001B[0m\u001B[1;33m.\u001B[0m\u001B[0mn_iter\u001B[0m \u001B[1;33m+\u001B[0m \u001B[1;36m1\u001B[0m\u001B[1;33m)\u001B[0m\u001B[1;33m:\u001B[0m\u001B[1;33m\u001B[0m\u001B[1;33m\u001B[0m\u001B[0m\n\u001B[0;32m    356\u001B[0m             \u001B[1;32mfor\u001B[0m \u001B[0mbatch_slice\u001B[0m \u001B[1;32min\u001B[0m \u001B[0mbatch_slices\u001B[0m\u001B[1;33m:\u001B[0m\u001B[1;33m\u001B[0m\u001B[1;33m\u001B[0m\u001B[0m\n\u001B[1;32m--> 357\u001B[1;33m                 \u001B[0mself\u001B[0m\u001B[1;33m.\u001B[0m\u001B[0m_fit\u001B[0m\u001B[1;33m(\u001B[0m\u001B[0mX\u001B[0m\u001B[1;33m[\u001B[0m\u001B[0mbatch_slice\u001B[0m\u001B[1;33m]\u001B[0m\u001B[1;33m,\u001B[0m \u001B[0mrng\u001B[0m\u001B[1;33m)\u001B[0m\u001B[1;33m\u001B[0m\u001B[1;33m\u001B[0m\u001B[0m\n\u001B[0m\u001B[0;32m    358\u001B[0m \u001B[1;33m\u001B[0m\u001B[0m\n\u001B[0;32m    359\u001B[0m             \u001B[1;32mif\u001B[0m \u001B[0mverbose\u001B[0m\u001B[1;33m:\u001B[0m\u001B[1;33m\u001B[0m\u001B[1;33m\u001B[0m\u001B[0m\n",
      "\u001B[1;32mD:\\soft\\Anaconda3\\lib\\site-packages\\sklearn\\neural_network\\_rbm.py\u001B[0m in \u001B[0;36m_fit\u001B[1;34m(self, v_pos, rng)\u001B[0m\n\u001B[0;32m    276\u001B[0m         \u001B[0mlr\u001B[0m \u001B[1;33m=\u001B[0m \u001B[0mfloat\u001B[0m\u001B[1;33m(\u001B[0m\u001B[0mself\u001B[0m\u001B[1;33m.\u001B[0m\u001B[0mlearning_rate\u001B[0m\u001B[1;33m)\u001B[0m \u001B[1;33m/\u001B[0m \u001B[0mv_pos\u001B[0m\u001B[1;33m.\u001B[0m\u001B[0mshape\u001B[0m\u001B[1;33m[\u001B[0m\u001B[1;36m0\u001B[0m\u001B[1;33m]\u001B[0m\u001B[1;33m\u001B[0m\u001B[1;33m\u001B[0m\u001B[0m\n\u001B[0;32m    277\u001B[0m         \u001B[0mupdate\u001B[0m \u001B[1;33m=\u001B[0m \u001B[0msafe_sparse_dot\u001B[0m\u001B[1;33m(\u001B[0m\u001B[0mv_pos\u001B[0m\u001B[1;33m.\u001B[0m\u001B[0mT\u001B[0m\u001B[1;33m,\u001B[0m \u001B[0mh_pos\u001B[0m\u001B[1;33m,\u001B[0m \u001B[0mdense_output\u001B[0m\u001B[1;33m=\u001B[0m\u001B[1;32mTrue\u001B[0m\u001B[1;33m)\u001B[0m\u001B[1;33m.\u001B[0m\u001B[0mT\u001B[0m\u001B[1;33m\u001B[0m\u001B[1;33m\u001B[0m\u001B[0m\n\u001B[1;32m--> 278\u001B[1;33m         \u001B[0mupdate\u001B[0m \u001B[1;33m-=\u001B[0m \u001B[0mnp\u001B[0m\u001B[1;33m.\u001B[0m\u001B[0mdot\u001B[0m\u001B[1;33m(\u001B[0m\u001B[0mh_neg\u001B[0m\u001B[1;33m.\u001B[0m\u001B[0mT\u001B[0m\u001B[1;33m,\u001B[0m \u001B[0mv_neg\u001B[0m\u001B[1;33m)\u001B[0m\u001B[1;33m\u001B[0m\u001B[1;33m\u001B[0m\u001B[0m\n\u001B[0m\u001B[0;32m    279\u001B[0m         \u001B[0mself\u001B[0m\u001B[1;33m.\u001B[0m\u001B[0mcomponents_\u001B[0m \u001B[1;33m+=\u001B[0m \u001B[0mlr\u001B[0m \u001B[1;33m*\u001B[0m \u001B[0mupdate\u001B[0m\u001B[1;33m\u001B[0m\u001B[1;33m\u001B[0m\u001B[0m\n\u001B[0;32m    280\u001B[0m         \u001B[0mself\u001B[0m\u001B[1;33m.\u001B[0m\u001B[0mintercept_hidden_\u001B[0m \u001B[1;33m+=\u001B[0m \u001B[0mlr\u001B[0m \u001B[1;33m*\u001B[0m \u001B[1;33m(\u001B[0m\u001B[0mh_pos\u001B[0m\u001B[1;33m.\u001B[0m\u001B[0msum\u001B[0m\u001B[1;33m(\u001B[0m\u001B[0maxis\u001B[0m\u001B[1;33m=\u001B[0m\u001B[1;36m0\u001B[0m\u001B[1;33m)\u001B[0m \u001B[1;33m-\u001B[0m \u001B[0mh_neg\u001B[0m\u001B[1;33m.\u001B[0m\u001B[0msum\u001B[0m\u001B[1;33m(\u001B[0m\u001B[0maxis\u001B[0m\u001B[1;33m=\u001B[0m\u001B[1;36m0\u001B[0m\u001B[1;33m)\u001B[0m\u001B[1;33m)\u001B[0m\u001B[1;33m\u001B[0m\u001B[1;33m\u001B[0m\u001B[0m\n",
      "\u001B[1;31mKeyboardInterrupt\u001B[0m: "
     ]
    }
   ],
   "source": [
    "nn_neurons = 1000\n",
    "# Инициируем RBM\n",
    "rbm = BernoulliRBM(n_components=nn_neurons, batch_size=128, n_iter=20, verbose=1)\n",
    "rbm.fit(x_train, x_train)"
   ],
   "metadata": {
    "collapsed": false,
    "pycharm": {
     "name": "#%%\n"
    }
   }
  },
  {
   "cell_type": "code",
   "execution_count": 41,
   "outputs": [
    {
     "data": {
      "text/plain": "<Figure size 432x288 with 8 Axes>",
      "image/png": "[encoded data removed]"
     },
     "metadata": {
      "needs_background": "light"
     },
     "output_type": "display_data"
    }
   ],
   "source": [
    "import matplotlib.pyplot as plt\n",
    "\n",
    "#\n",
    "samples = x_train[20:30].copy()\n",
    "gibbs = rbm.gibbs(samples)\n",
    "gibbs = gibbs.reshape(len(samples), 28, 28)\n",
    "samples = samples.reshape(len(samples), 28, 28)\n",
    "\n",
    "def show_results(input, output, n):\n",
    "    fig, axs = plt.subplots(2, n)\n",
    "    for i in range(0, n):\n",
    "        axs[0, i].imshow(input[i])\n",
    "        axs[0, i].axis('off')\n",
    "        axs[1, i].imshow(output[i])\n",
    "        axs[1, i].axis('off')\n",
    "show_results(samples, gibbs, 4)\n",
    "\n"
   ],
   "metadata": {
    "collapsed": false,
    "pycharm": {
     "name": "#%%\n"
    }
   }
  },
  {
   "cell_type": "code",
   "execution_count": 65,
   "outputs": [
    {
     "name": "stdout",
     "output_type": "stream",
     "text": [
      "[BernoulliRBM] Iteration 1, pseudo-likelihood = -243.76, time = 51.37s\n",
      "[BernoulliRBM] Iteration 2, pseudo-likelihood = -228.69, time = 66.50s\n",
      "[BernoulliRBM] Iteration 3, pseudo-likelihood = -222.46, time = 67.16s\n",
      "[BernoulliRBM] Iteration 4, pseudo-likelihood = -215.99, time = 69.45s\n",
      "[BernoulliRBM] Iteration 5, pseudo-likelihood = -212.13, time = 69.33s\n",
      "[Pipeline] ............. (step 1 of 3) Processing rbm_1, total= 5.7min\n",
      "[BernoulliRBM] Iteration 1, pseudo-likelihood = -261.95, time = 109.15s\n",
      "[BernoulliRBM] Iteration 2, pseudo-likelihood = -252.96, time = 131.94s\n",
      "[BernoulliRBM] Iteration 3, pseudo-likelihood = -254.30, time = 124.76s\n",
      "[BernoulliRBM] Iteration 4, pseudo-likelihood = -252.01, time = 127.37s\n",
      "[BernoulliRBM] Iteration 5, pseudo-likelihood = -249.62, time = 136.27s\n",
      "[Pipeline] ............. (step 2 of 3) Processing rbm_2, total=11.0min\n",
      "[BernoulliRBM] Iteration 1, pseudo-likelihood = -354.90, time = 6.98s\n",
      "[BernoulliRBM] Iteration 2, pseudo-likelihood = -347.64, time = 9.15s\n",
      "[BernoulliRBM] Iteration 3, pseudo-likelihood = -345.85, time = 8.25s\n",
      "[BernoulliRBM] Iteration 4, pseudo-likelihood = -343.14, time = 8.15s\n",
      "[BernoulliRBM] Iteration 5, pseudo-likelihood = -342.00, time = 10.10s\n",
      "[Pipeline] ............. (step 3 of 3) Processing rbm_3, total=  44.2s\n"
     ]
    },
    {
     "data": {
      "text/plain": "Pipeline(memory=None,\n         steps=[('rbm_1',\n                 BernoulliRBM(batch_size=128, learning_rate=0.1,\n                              n_components=1600, n_iter=5, random_state=None,\n                              verbose=1)),\n                ('rbm_2',\n                 BernoulliRBM(batch_size=128, learning_rate=0.1,\n                              n_components=1600, n_iter=5, random_state=None,\n                              verbose=1)),\n                ('rbm_3', <__main__.out_rbm object at 0x000001D7011009C8>)],\n         verbose=1)"
     },
     "execution_count": 65,
     "metadata": {},
     "output_type": "execute_result"
    }
   ],
   "source": [
    "class out_rbm():\n",
    "    def __init__(self, rbm):\n",
    "        self.rbm = rbm\n",
    "    def fit(self, x, y):\n",
    "        return self.rbm.fit(x, y)\n",
    "    def predict(self, x):\n",
    "        return self.rbm.gibbs(x)\n",
    "\n",
    "nn_neurons = 1600\n",
    "epochs = 5\n",
    "rbm_1 = BernoulliRBM(n_components=nn_neurons, batch_size=128, n_iter=epochs, verbose=1)\n",
    "rbm_2 = BernoulliRBM(n_components=nn_neurons, batch_size=128, n_iter=epochs, verbose=1)\n",
    "rbm_3 = out_rbm(BernoulliRBM(n_components=45, batch_size=128, n_iter=epochs, verbose=1))\n",
    "\n",
    "stacked_machine = Pipeline(steps=[\n",
    "    ('rbm_1',rbm_1),\n",
    "    ('rbm_2',rbm_2),\n",
    "    ('rbm_3',rbm_3),\n",
    "], verbose=1)\n",
    "\n",
    "stacked_machine.fit(x_train, x_train)\n"
   ],
   "metadata": {
    "collapsed": false,
    "pycharm": {
     "name": "#%%\n"
    }
   }
  },
  {
   "cell_type": "code",
   "execution_count": 67,
   "outputs": [
    {
     "name": "stdout",
     "output_type": "stream",
     "text": [
      "[[[False False False ... False False  True]\n",
      "  [ True False False ... False False False]\n",
      "  [False False  True ... False False False]\n",
      "  ...\n",
      "  [False  True False ... False  True False]\n",
      "  [False  True  True ... False False False]\n",
      "  [False False False ... False  True False]]\n",
      "\n",
      " [[False False  True ... False False False]\n",
      "  [False False False ... False False False]\n",
      "  [False False False ... False False False]\n",
      "  ...\n",
      "  [False False False ... False False False]\n",
      "  [False False  True ... False False False]\n",
      "  [False False False ... False False False]]\n",
      "\n",
      " [[False False False ...  True False False]\n",
      "  [False False False ... False False False]\n",
      "  [False  True False ...  True False False]\n",
      "  ...\n",
      "  [False False False ... False False False]\n",
      "  [ True False False ... False False False]\n",
      "  [False False False ... False False False]]\n",
      "\n",
      " ...\n",
      "\n",
      " [[False False False ... False False False]\n",
      "  [False  True False ... False False False]\n",
      "  [ True False  True ... False False False]\n",
      "  ...\n",
      "  [ True False False ... False False False]\n",
      "  [ True False False ... False False False]\n",
      "  [False False False ... False False False]]\n",
      "\n",
      " [[False False  True ... False False False]\n",
      "  [False False False ... False False False]\n",
      "  [False False False ... False False False]\n",
      "  ...\n",
      "  [False False False ... False False False]\n",
      "  [False False False ... False False False]\n",
      "  [False  True False ... False False False]]\n",
      "\n",
      " [[False False False ...  True False False]\n",
      "  [False False False ...  True False False]\n",
      "  [False False  True ...  True False False]\n",
      "  ...\n",
      "  [False False  True ...  True False  True]\n",
      "  [False False  True ...  True False False]\n",
      "  [False False False ... False False False]]]\n"
     ]
    },
    {
     "data": {
      "text/plain": "<Figure size 432x288 with 8 Axes>",
      "image/png": "[encoded data removed]"
     },
     "metadata": {
      "needs_background": "light"
     },
     "output_type": "display_data"
    }
   ],
   "source": [
    "samples = x_train[20:30].copy()\n",
    "gibbs = stacked_machine.predict(samples)\n",
    "gibbs = gibbs.reshape(len(samples), 40, 40)\n",
    "samples = samples.reshape(len(samples), 28, 28)\n",
    "show_results(samples, gibbs, 4)\n",
    "\n",
    "print(gibbs)"
   ],
   "metadata": {
    "collapsed": false,
    "pycharm": {
     "name": "#%%\n"
    }
   }
  }
 ],
 "metadata": {
  "kernelspec": {
   "display_name": "Python 3",
   "language": "python",
   "name": "python3"
  },
  "language_info": {
   "codemirror_mode": {
    "name": "ipython",
    "version": 2
   },
   "file_extension": ".py",
   "mimetype": "text/x-python",
   "name": "python",
   "nbconvert_exporter": "python",
   "pygments_lexer": "ipython2",
   "version": "2.7.6"
  }
 },
 "nbformat": 4,
 "nbformat_minor": 0
}